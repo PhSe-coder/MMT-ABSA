{
 "cells": [
  {
   "cell_type": "code",
   "execution_count": 62,
   "metadata": {},
   "outputs": [
    {
     "name": "stdout",
     "output_type": "stream",
     "text": [
      "0.9067916470229347 0.05391164480434843 0.022851437921184724 0.01644527025153221\n",
      "32698 1944 824 593\n"
     ]
    }
   ],
   "source": [
    "o_count = 0\n",
    "pos_count = 0\n",
    "neg_count = 0\n",
    "neu_count = 0\n",
    "data = open(\"../predict_sota.txt\", \"r\").read().splitlines()\n",
    "# data += open(\"./ag_tmp/rest.train.txt\", \"r\").read().splitlines()\n",
    "# data = open(\"./ag_tmp/laptop.train.txt\", \"r\").read().splitlines()\n",
    "for line in data:\n",
    "    text, pre, gold = line.split(\"***\")\n",
    "    for label in pre.split():\n",
    "        if 'POS' in label:\n",
    "            pos_count += 1\n",
    "        elif 'NEG' in label:\n",
    "            neg_count += 1\n",
    "        elif 'NEU' in label:\n",
    "            neu_count += 1\n",
    "        else:\n",
    "            o_count += 1\n",
    "counts = o_count + pos_count + neg_count + neu_count\n",
    "print(o_count / counts, pos_count / counts, neg_count / counts, neu_count / counts)\n",
    "print(o_count ,pos_count ,neg_count ,neu_count)\n"
   ]
  },
  {
   "cell_type": "code",
   "execution_count": null,
   "metadata": {},
   "outputs": [],
   "source": [
    "data = open(\"../predict_sota.txt\", \"r\").read().splitlines()\n",
    "# data += open(\"./ag_tmp/rest.train.txt\", \"r\").read().splitlines()\n",
    "# data = open(\"./ag_tmp/laptop.train.txt\", \"r\").read().splitlines()\n",
    "for line in data:\n",
    "    text, pre, gold = line.split(\"***\")\n",
    "    for label in pre.split():\n",
    "        if 'POS' in label:\n",
    "            pos_count += 1\n",
    "        elif 'NEG' in label:\n",
    "            neg_count += 1\n",
    "        elif 'NEU' in label:\n",
    "            neu_count += 1\n",
    "        else:\n",
    "            o_count += 1\n",
    "counts = o_count + pos_count + neg_count + neu_count\n",
    "print(o_count / counts, pos_count / counts, neg_count / counts, neu_count / counts)\n",
    "print(o_count, pos_count, neg_count, neu_count)\n"
   ]
  },
  {
   "cell_type": "code",
   "execution_count": 71,
   "metadata": {},
   "outputs": [
    {
     "name": "stdout",
     "output_type": "stream",
     "text": [
      "(0.6693548327118742, 0.4901574770987042, 0.565904206085478)\n",
      "(0.42300884207064, 0.47704589866175856, 0.44840026294831753)\n",
      "(0.12781954406693444, 0.12927756162442733, 0.12853941893582208)\n"
     ]
    }
   ],
   "source": [
    "import sys\n",
    "sys.path.append(\"../\")\n",
    "from eval import absa_evaluate_polarity\n",
    "predicts = open(\"../predict_sota.txt\", \"r\").read().splitlines()\n",
    "preds = []\n",
    "golds = []\n",
    "for line in predicts:\n",
    "    text, pred, gold = line.split(\"***\")\n",
    "    preds.append(pred.split())\n",
    "    golds.append(gold.split())\n",
    "print(absa_evaluate_polarity(preds, golds, \"POS\"))\n",
    "print(absa_evaluate_polarity(preds, golds, \"NEG\"))\n",
    "print(absa_evaluate_polarity(preds, golds, \"NEU\"))"
   ]
  },
  {
   "cell_type": "code",
   "execution_count": null,
   "metadata": {},
   "outputs": [],
   "source": [
    "(0.6695132308325087, 0.5144356921624955, 0.5818132633250547)\n",
    "(0.3329752918047767, 0.6187624626993521, 0.4329563386939732)\n",
    "(0.1137184094996677, 0.23954371712761535, 0.15421839689113445)"
   ]
  },
  {
   "cell_type": "code",
   "execution_count": 1,
   "metadata": {},
   "outputs": [
    {
     "name": "stdout",
     "output_type": "stream",
     "text": [
      "O 0.8917215289127856\n",
      "B-POS 0.04263725744777267\n",
      "B-NEU 0.011201572293420095\n",
      "I-NEU 0.005264738977907445\n",
      "I-POS 0.025651600551932018\n",
      "B-NEG 0.01690419091552487\n",
      "I-NEG 0.006619110900657328\n"
     ]
    }
   ],
   "source": [
    "import sys\n",
    "\n",
    "sys.path.append(\"../\")\n",
    "from utils import ot2bio_absa\n",
    "\n",
    "data = open(\"./ag_tmp/rest.train.txt\", \"r\").read().splitlines()\n",
    "tag_dict = {}\n",
    "for line in data:\n",
    "    text, gold, pos, dep = line.split(\"***\")\n",
    "    for tag in ot2bio_absa(gold.split()):\n",
    "        tag_dict[tag] = tag_dict.get(tag, 0) + 1\n",
    "for k, v in tag_dict.items():\n",
    "    print(k, v / sum(count for _, count in tag_dict.items()))"
   ]
  }
 ],
 "metadata": {
  "kernelspec": {
   "display_name": "Python 3.7.13 ('venv')",
   "language": "python",
   "name": "python3"
  },
  "language_info": {
   "codemirror_mode": {
    "name": "ipython",
    "version": 3
   },
   "file_extension": ".py",
   "mimetype": "text/x-python",
   "name": "python",
   "nbconvert_exporter": "python",
   "pygments_lexer": "ipython3",
   "version": "3.7.13"
  },
  "orig_nbformat": 4,
  "vscode": {
   "interpreter": {
    "hash": "514bf37689fab66dd9e64044d554682626457c62a79ef980ffeb215c6b270f2d"
   }
  }
 },
 "nbformat": 4,
 "nbformat_minor": 2
}
