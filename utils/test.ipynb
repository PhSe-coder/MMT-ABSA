{
 "cells": [
  {
   "cell_type": "code",
   "execution_count": 80,
   "metadata": {},
   "outputs": [],
   "source": [
    "domain = 'laptop'"
   ]
  },
  {
   "cell_type": "code",
   "execution_count": 81,
   "metadata": {},
   "outputs": [
    {
     "name": "stderr",
     "output_type": "stream",
     "text": [
      "[nltk_data] Downloading package stopwords to /root/nltk_data...\n",
      "[nltk_data]   Package stopwords is already up-to-date!\n"
     ]
    },
    {
     "data": {
      "text/plain": [
       "450"
      ]
     },
     "execution_count": 81,
     "metadata": {},
     "output_type": "execute_result"
    }
   ],
   "source": [
    "import pickle\n",
    "from collections import Counter\n",
    "from typing import List, Tuple\n",
    "from nltk.corpus import stopwords\n",
    "import nltk\n",
    "from nltk.stem import WordNetLemmatizer\n",
    "\n",
    "nltk.download('stopwords')\n",
    "\n",
    "wnl = WordNetLemmatizer()\n",
    "with open(f\"./entities/{domain}.pkl\", \"rb\") as f:\n",
    "    entities: List[str] = pickle.load(f)\n",
    "# remove stopwords\n",
    "sets = stopwords.words('english')\n",
    "entities = [word for word in entities if word not in sets]\n",
    "counters = Counter(entities)\n",
    "sorted_entities: List[Tuple[str, int]] = sorted(filter(lambda item: item[1] >= 5, counters.items()),\n",
    "                                                key=lambda item: item[1],\n",
    "                                                reverse=True)\n",
    "len(list(zip(*sorted_entities))[0])"
   ]
  },
  {
   "cell_type": "code",
   "execution_count": 82,
   "metadata": {},
   "outputs": [
    {
     "data": {
      "text/plain": [
       "1013"
      ]
     },
     "execution_count": 82,
     "metadata": {},
     "output_type": "execute_result"
    }
   ],
   "source": [
    "from glob import glob\n",
    "\n",
    "for file in glob(f\"../data/{domain}.*.txt\"):\n",
    "    with open(file, \"r\") as f:\n",
    "        aspects = []\n",
    "        for line in f:\n",
    "            text, labels = line.split(\"***\")\n",
    "            tokens = text.split()\n",
    "            labels = labels.split()\n",
    "            aspect = []\n",
    "            for idx, label in enumerate(labels):\n",
    "                if label != 'O':\n",
    "                    aspect.append(tokens[idx])\n",
    "                    continue\n",
    "                if aspect:\n",
    "                    aspects.append(' '.join(aspect))\n",
    "                    aspect.clear()\n",
    "len(set(aspects))"
   ]
  },
  {
   "cell_type": "code",
   "execution_count": 83,
   "metadata": {},
   "outputs": [
    {
     "data": {
      "text/plain": [
       "0.5182625863770978"
      ]
     },
     "execution_count": 83,
     "metadata": {},
     "output_type": "execute_result"
    }
   ],
   "source": [
    "len(set(aspects).intersection(set(entities)))/len(set(aspects))"
   ]
  }
 ],
 "metadata": {
  "kernelspec": {
   "display_name": "Python 3.7.13 ('venv')",
   "language": "python",
   "name": "python3"
  },
  "language_info": {
   "codemirror_mode": {
    "name": "ipython",
    "version": 3
   },
   "file_extension": ".py",
   "mimetype": "text/x-python",
   "name": "python",
   "nbconvert_exporter": "python",
   "pygments_lexer": "ipython3",
   "version": "3.7.13"
  },
  "orig_nbformat": 4,
  "vscode": {
   "interpreter": {
    "hash": "514bf37689fab66dd9e64044d554682626457c62a79ef980ffeb215c6b270f2d"
   }
  }
 },
 "nbformat": 4,
 "nbformat_minor": 2
}
