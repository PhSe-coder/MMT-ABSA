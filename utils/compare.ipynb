{
 "cells": [
  {
   "cell_type": "code",
   "execution_count": 2,
   "metadata": {},
   "outputs": [
    {
     "data": {
      "text/html": [
       "<div>\n",
       "<style scoped>\n",
       "    .dataframe tbody tr th:only-of-type {\n",
       "        vertical-align: middle;\n",
       "    }\n",
       "\n",
       "    .dataframe tbody tr th {\n",
       "        vertical-align: top;\n",
       "    }\n",
       "\n",
       "    .dataframe thead th {\n",
       "        text-align: right;\n",
       "    }\n",
       "</style>\n",
       "<table border=\"1\" class=\"dataframe\">\n",
       "  <thead>\n",
       "    <tr style=\"text-align: right;\">\n",
       "      <th></th>\n",
       "      <th>service-rest</th>\n",
       "      <th>device-rest</th>\n",
       "      <th>rest-service</th>\n",
       "      <th>laptop-service</th>\n",
       "      <th>device-service</th>\n",
       "      <th>rest-device</th>\n",
       "      <th>service-device</th>\n",
       "      <th>rest-laptop</th>\n",
       "      <th>service-laptop</th>\n",
       "      <th>laptop-rest</th>\n",
       "      <th>AVG</th>\n",
       "    </tr>\n",
       "  </thead>\n",
       "  <tbody>\n",
       "    <tr>\n",
       "      <th>0</th>\n",
       "      <td>0.5446</td>\n",
       "      <td>0.5086</td>\n",
       "      <td>0.3458</td>\n",
       "      <td>0.2592</td>\n",
       "      <td>0.2786</td>\n",
       "      <td>0.3461</td>\n",
       "      <td>0.3753</td>\n",
       "      <td>0.3905</td>\n",
       "      <td>0.3477</td>\n",
       "      <td>0.4801</td>\n",
       "      <td>0.38765</td>\n",
       "    </tr>\n",
       "  </tbody>\n",
       "</table>\n",
       "</div>"
      ],
      "text/plain": [
       "   service-rest  device-rest  rest-service  laptop-service  device-service  \\\n",
       "0        0.5446       0.5086        0.3458          0.2592          0.2786   \n",
       "\n",
       "   rest-device  service-device  rest-laptop  service-laptop  laptop-rest  \\\n",
       "0       0.3461          0.3753       0.3905          0.3477       0.4801   \n",
       "\n",
       "       AVG  \n",
       "0  0.38765  "
      ]
     },
     "execution_count": 2,
     "metadata": {},
     "output_type": "execute_result"
    }
   ],
   "source": [
    "import pandas as pd\n",
    "from mmt.utils import compare\n",
    "pd.DataFrame(compare(\"/root/autodl-tmp/graduation/out/\"))"
   ]
  },
  {
   "cell_type": "code",
   "execution_count": 12,
   "metadata": {},
   "outputs": [
    {
     "data": {
      "text/plain": [
       "((0.2282226738889908, 0.35521013138972324, 0.2778918695877866),\n",
       " (0.5080598718823838, 0.32642869749530795, 0.3974729935172326))"
      ]
     },
     "execution_count": 12,
     "metadata": {},
     "output_type": "execute_result"
    }
   ],
   "source": [
    "import sys\n",
    "sys.path.append(\"../\")\n",
    "from eval import absa_evaluate, evaluate\n",
    "from utils.tag_utils import ot2bio_absa\n",
    "\n",
    "data =  open(\"../processed/ent_tmp/rest.train.txt\").read().splitlines()\n",
    "items = [line.split(\"***\") for line in data]\n",
    "gold_Y = []\n",
    "hard_Y = []\n",
    "for text, gold, pos, dep, hard in items:\n",
    "    gold_Y.append(ot2bio_absa(gold.split()))\n",
    "    hard_Y.append(ot2bio_absa(hard.split()))\n",
    "absa_evaluate(hard_Y, gold_Y), evaluate(hard_Y, gold_Y)"
   ]
  },
  {
   "cell_type": "code",
   "execution_count": null,
   "metadata": {},
   "outputs": [],
   "source": [
    "((0.3533132519478516, 0.33765112165327826, 0.3452996822253332),\n",
    " (0.45279216910537656, 0.4737951664519528, 0.46305063245274025))"
   ]
  }
 ],
 "metadata": {
  "kernelspec": {
   "display_name": "Python 3.7.13 ('venv')",
   "language": "python",
   "name": "python3"
  },
  "language_info": {
   "codemirror_mode": {
    "name": "ipython",
    "version": 3
   },
   "file_extension": ".py",
   "mimetype": "text/x-python",
   "name": "python",
   "nbconvert_exporter": "python",
   "pygments_lexer": "ipython3",
   "version": "3.8.15"
  },
  "orig_nbformat": 4,
  "vscode": {
   "interpreter": {
    "hash": "514bf37689fab66dd9e64044d554682626457c62a79ef980ffeb215c6b270f2d"
   }
  }
 },
 "nbformat": 4,
 "nbformat_minor": 2
}
