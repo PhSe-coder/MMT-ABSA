{
 "cells": [
  {
   "cell_type": "code",
   "execution_count": 5,
   "metadata": {},
   "outputs": [
    {
     "data": {
      "text/html": [
       "<div>\n",
       "<style scoped>\n",
       "    .dataframe tbody tr th:only-of-type {\n",
       "        vertical-align: middle;\n",
       "    }\n",
       "\n",
       "    .dataframe tbody tr th {\n",
       "        vertical-align: top;\n",
       "    }\n",
       "\n",
       "    .dataframe thead th {\n",
       "        text-align: right;\n",
       "    }\n",
       "</style>\n",
       "<table border=\"1\" class=\"dataframe\">\n",
       "  <thead>\n",
       "    <tr style=\"text-align: right;\">\n",
       "      <th></th>\n",
       "      <th>service-rest</th>\n",
       "      <th>laptop-rest</th>\n",
       "      <th>device-rest</th>\n",
       "      <th>rest-service</th>\n",
       "      <th>laptop-service</th>\n",
       "      <th>device-service</th>\n",
       "      <th>rest-laptop</th>\n",
       "      <th>service-laptop</th>\n",
       "      <th>rest-device</th>\n",
       "      <th>service-device</th>\n",
       "      <th>AVG</th>\n",
       "    </tr>\n",
       "  </thead>\n",
       "  <tbody>\n",
       "    <tr>\n",
       "      <th>0</th>\n",
       "      <td>0.4658</td>\n",
       "      <td>0.3156</td>\n",
       "      <td>0.407</td>\n",
       "      <td>0.21</td>\n",
       "      <td>0.2645</td>\n",
       "      <td>0.3109</td>\n",
       "      <td>0.2962</td>\n",
       "      <td>0.3026</td>\n",
       "      <td>0.3091</td>\n",
       "      <td>0.3692</td>\n",
       "      <td>0.32509</td>\n",
       "    </tr>\n",
       "  </tbody>\n",
       "</table>\n",
       "</div>"
      ],
      "text/plain": [
       "   service-rest  laptop-rest  device-rest  rest-service  laptop-service  \\\n",
       "0        0.4658       0.3156        0.407          0.21          0.2645   \n",
       "\n",
       "   device-service  rest-laptop  service-laptop  rest-device  service-device  \\\n",
       "0          0.3109       0.2962          0.3026       0.3091          0.3692   \n",
       "\n",
       "       AVG  \n",
       "0  0.32509  "
      ]
     },
     "execution_count": 5,
     "metadata": {},
     "output_type": "execute_result"
    }
   ],
   "source": [
    "import pandas as pd\n",
    "from mmt.utils import compare\n",
    "pd.DataFrame(compare(\"./out\"))"
   ]
  }
 ],
 "metadata": {
  "kernelspec": {
   "display_name": "Python 3.7.13 ('venv')",
   "language": "python",
   "name": "python3"
  },
  "language_info": {
   "codemirror_mode": {
    "name": "ipython",
    "version": 3
   },
   "file_extension": ".py",
   "mimetype": "text/x-python",
   "name": "python",
   "nbconvert_exporter": "python",
   "pygments_lexer": "ipython3",
   "version": "3.7.13"
  },
  "orig_nbformat": 4,
  "vscode": {
   "interpreter": {
    "hash": "514bf37689fab66dd9e64044d554682626457c62a79ef980ffeb215c6b270f2d"
   }
  }
 },
 "nbformat": 4,
 "nbformat_minor": 2
}
